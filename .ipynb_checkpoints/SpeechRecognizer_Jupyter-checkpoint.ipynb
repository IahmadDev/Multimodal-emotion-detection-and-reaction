{
 "cells": [
  {
   "cell_type": "code",
   "execution_count": 1,
   "id": "3a7983ab-d399-477d-9d3b-f7b7c258eaad",
   "metadata": {},
   "outputs": [],
   "source": [
    "import librosa as lb\n",
    "import soundfile as sf\n",
    "import numpy as np\n",
    "import os, glob, pickle\n",
    "from sklearn.model_selection import train_test_split\n",
    "from sklearn.neural_network import MLPClassifier\n",
    "from sklearn.metrics import accuracy_score"
   ]
  },
  {
   "cell_type": "code",
   "execution_count": 2,
   "id": "09c6a4fa-6a52-4fe6-9bfc-ff4d596b24a9",
   "metadata": {},
   "outputs": [],
   "source": [
    "emotion_labels = {\n",
    "  '01':'neutral',\n",
    "  '02':'calm',\n",
    "  '03':'happy',\n",
    "  '04':'sad',\n",
    "  '05':'angry',\n",
    "  '06':'fearful',\n",
    "  '07':'disgust',\n",
    "  '08':'surprised'\n",
    "}\n",
    "focused_emotion_labels = ['happy', 'sad', 'angry', 'fear']"
   ]
  },
  {
   "cell_type": "code",
   "execution_count": 3,
   "id": "2cf96dbb-4685-46dd-8f10-8aa2e56392bf",
   "metadata": {},
   "outputs": [],
   "source": [
    "def audio_features(file_title, mfcc, chroma, mel):\n",
    "    with sf.SoundFile(file_title) as audio_recording:\n",
    "        audio = audio_recording.read(dtype=\"float32\")\n",
    "        sample_rate = audio_recording.samplerate\n",
    "\n",
    "        if chroma:\n",
    "            stft = np.abs(lb.stft(y=audio))\n",
    "        result = np.array([])\n",
    "        if mfcc:\n",
    "            mfccs = np.mean(lb.feature.mfcc(y=audio, sr=sample_rate, n_mfcc=40).T, axis=0)\n",
    "            result = np.hstack((result, mfccs))\n",
    "        if chroma:\n",
    "            chroma = np.mean(lb.feature.chroma_stft(S=stft, sr=sample_rate).T, axis=0)\n",
    "            result = np.hstack((result, chroma))\n",
    "        if mel:\n",
    "            mel = np.mean(lb.feature.melspectrogram(y=audio, sr=sample_rate).T, axis=0)\n",
    "            result = np.hstack((result, mel))\n",
    "            #fig, ax = plt.subplots()\n",
    "            #S_dB = lb.power_to_db(mel, ref=np.max)\n",
    "            #img = lb.display.specshow(S_dB, x_axis='time', y_axis='mel', sr=sample_rate, fmax=8000, ax=ax)\n",
    "            #fig.colorbar(img, ax=ax, format='%+2.0f dB')\n",
    "            #ax.set(title='Mel-frequency spectrogram')\n",
    "            #plt.show()\n",
    "        return result"
   ]
  },
  {
   "cell_type": "code",
   "execution_count": 4,
   "id": "c84a9990-458b-41dd-8eb0-d2c34955d40a",
   "metadata": {},
   "outputs": [],
   "source": [
    "def loading_audio_data():\n",
    "    x = []\n",
    "    y = []\n",
    "\n",
    "    for file in glob.glob(\"data//Actor_*//*.wav\"):\n",
    "        file_path = os.path.basename(file)\n",
    "        emotion = emotion_labels[file_path.split(\"-\")[2]]\n",
    "        if emotion not in focused_emotion_labels:\n",
    "            continue\n",
    "        feature = audio_features(file, mfcc=True, chroma=True, mel=True)\n",
    "        x.append(feature)\n",
    "        y.append(emotion)\n",
    "    final_dataset = train_test_split(np.array(x), y, test_size=0.2, random_state=9)\n",
    "    return final_dataset"
   ]
  },
  {
   "cell_type": "code",
   "execution_count": 5,
   "id": "1e181399-af8d-457b-aff0-12c277bd3265",
   "metadata": {},
   "outputs": [
    {
     "name": "stdout",
     "output_type": "stream",
     "text": [
      "Loading data...\n",
      "Create Model...\n",
      "Predict...\n",
      "Accuracy of the Recognizer is: 78.4%\n"
     ]
    }
   ],
   "source": [
    "print(\"Loading data...\")\n",
    "X_train, X_test, y_train, y_test = loading_audio_data()\n",
    "print(\"Create Model...\")\n",
    "model = MLPClassifier(hidden_layer_sizes=(100,), learning_rate='adaptive', max_iter=400, early_stopping=False)\n",
    "model.fit(X_train, y_train)\n",
    "print(\"Predict...\")\n",
    "y_pred = model.predict(X_test)\n",
    "accuracy = accuracy_score(y_true=y_test, y_pred=y_pred)\n",
    "print(\"Accuracy of the Recognizer is: {:.1f}%\".format(accuracy*100))"
   ]
  },
  {
   "cell_type": "code",
   "execution_count": null,
   "id": "d6e5a992",
   "metadata": {},
   "outputs": [],
   "source": []
  }
 ],
 "metadata": {
  "kernelspec": {
   "display_name": "Python 3",
   "language": "python",
   "name": "python3"
  },
  "language_info": {
   "codemirror_mode": {
    "name": "ipython",
    "version": 3
   },
   "file_extension": ".py",
   "mimetype": "text/x-python",
   "name": "python",
   "nbconvert_exporter": "python",
   "pygments_lexer": "ipython3",
   "version": "3.8.8"
  }
 },
 "nbformat": 4,
 "nbformat_minor": 5
}
