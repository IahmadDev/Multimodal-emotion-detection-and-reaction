{
  "cells": [
    {
      "cell_type": "code",
      "execution_count": null,
      "metadata": {
        "id": "OveWDvLvbShc"
      },
      "outputs": [],
      "source": [
        "import numpy as np\n",
        "import os\n",
        "import tensorflow\n",
        "import cv2\n",
        "import keras\n",
        "import matplotlib.pyplot as plt \n",
        "import random\n",
        "from keras.models import Sequential\n",
        "from tensorflow.keras import layers #python evtl weg\n"
      ]
    },
    {
      "cell_type": "code",
      "execution_count": null,
      "metadata": {
        "id": "63iywH9rbShp"
      },
      "outputs": [],
      "source": [
        "img_array = cv2.imread(\"/content/gdrive/MyDrive/Colab Notebooks/test/0/PrivateTest_1054527.jpg\")"
      ]
    },
    {
      "cell_type": "code",
      "source": [
        "from google.colab import drive\n",
        "drive.mount('/content/gdrive') \n"
      ],
      "metadata": {
        "id": "8yHpJ35hkK63",
        "colab": {
          "base_uri": "https://localhost:8080/"
        },
        "outputId": "4e0e1632-053b-4e16-a382-0644737b6215"
      },
      "execution_count": 9,
      "outputs": [
        {
          "output_type": "stream",
          "name": "stdout",
          "text": [
            "Mounted at /content/gdrive\n"
          ]
        }
      ]
    },
    {
      "cell_type": "code",
      "execution_count": null,
      "metadata": {
        "colab": {
          "base_uri": "https://localhost:8080/"
        },
        "id": "79n7oIwCbShp",
        "outputId": "95e264b6-d67b-410a-acb1-a77b671278f5"
      },
      "outputs": [
        {
          "output_type": "stream",
          "name": "stdout",
          "text": [
            "[[[123 123 123]\n",
            "  [123 123 123]\n",
            "  [126 126 126]\n",
            "  ...\n",
            "  [ 52  52  52]\n",
            "  [ 46  46  46]\n",
            "  [ 43  43  43]]\n",
            "\n",
            " [[116 116 116]\n",
            "  [115 115 115]\n",
            "  [116 116 116]\n",
            "  ...\n",
            "  [ 52  52  52]\n",
            "  [ 49  49  49]\n",
            "  [ 51  51  51]]\n",
            "\n",
            " [[105 105 105]\n",
            "  [107 107 107]\n",
            "  [109 109 109]\n",
            "  ...\n",
            "  [ 57  57  57]\n",
            "  [ 57  57  57]\n",
            "  [ 60  60  60]]\n",
            "\n",
            " ...\n",
            "\n",
            " [[ 96  96  96]\n",
            "  [ 98  98  98]\n",
            "  [ 97  97  97]\n",
            "  ...\n",
            "  [  1   1   1]\n",
            "  [  2   2   2]\n",
            "  [  3   3   3]]\n",
            "\n",
            " [[ 87  87  87]\n",
            "  [ 90  90  90]\n",
            "  [ 90  90  90]\n",
            "  ...\n",
            "  [  1   1   1]\n",
            "  [  2   2   2]\n",
            "  [  1   1   1]]\n",
            "\n",
            " [[ 78  78  78]\n",
            "  [ 81  81  81]\n",
            "  [ 84  84  84]\n",
            "  ...\n",
            "  [  4   4   4]\n",
            "  [  4   4   4]\n",
            "  [  3   3   3]]]\n"
          ]
        }
      ],
      "source": [
        "print (img_array)"
      ]
    },
    {
      "cell_type": "code",
      "execution_count": null,
      "metadata": {
        "colab": {
          "base_uri": "https://localhost:8080/",
          "height": 267
        },
        "id": "_PvxNf4lbShr",
        "outputId": "69f20ff0-6e35-4e64-95b5-f7180c73d7b3"
      },
      "outputs": [
        {
          "output_type": "display_data",
          "data": {
            "text/plain": [
              "<Figure size 432x288 with 1 Axes>"
            ],
            "image/png": "[encoded data removed]"
          },
          "metadata": {
            "needs_background": "light"
          }
        }
      ],
      "source": [
        "plt.imshow(img_array)\n",
        "plt.show()"
      ]
    },
    {
      "cell_type": "code",
      "execution_count": null,
      "metadata": {
        "id": "mDJBpdNzbShs"
      },
      "outputs": [],
      "source": [
        "dataset = \"/content/gdrive/MyDrive/Colab Notebooks/test\"\n",
        "classes = [\"0\", \"1\", \"2\", \"3\"]"
      ]
    },
    {
      "cell_type": "code",
      "execution_count": null,
      "metadata": {
        "colab": {
          "base_uri": "https://localhost:8080/",
          "height": 267
        },
        "id": "Y1AnTvYtbShs",
        "outputId": "569f09f1-730b-420b-a1af-f16675804784"
      },
      "outputs": [
        {
          "output_type": "display_data",
          "data": {
            "text/plain": [
              "<Figure size 432x288 with 1 Axes>"
            ],
            "image/png": "[encoded data removed]"
          },
          "metadata": {
            "needs_background": "light"
          }
        }
      ],
      "source": [
        "for category in classes:\n",
        "    path = os.path.join(dataset, category)\n",
        "    ImgsInCategory = os.listdir(path)\n",
        "    for img in ImgsInCategory:\n",
        "        img_array = cv2.imread(os.path.join(path, img))\n",
        "        plt.imshow(cv2.cvtColor(img_array, cv2.COLOR_BGR2RGB))\n",
        "        plt.show()\n",
        "        break\n",
        "    break"
      ]
    },
    {
      "cell_type": "code",
      "execution_count": null,
      "metadata": {
        "id": "M3rDM-2cbSht"
      },
      "outputs": [],
      "source": [
        "img_size = 224"
      ]
    },
    {
      "cell_type": "code",
      "execution_count": null,
      "metadata": {
        "id": "kvcSGDqCbSht"
      },
      "outputs": [],
      "source": [
        "new_array = cv2.resize(img_array, (img_size, img_size))"
      ]
    },
    {
      "cell_type": "code",
      "execution_count": null,
      "metadata": {
        "id": "98rQzuMSbShu",
        "outputId": "555a27b8-8f04-43ad-d7d3-27a5cd659601",
        "colab": {
          "base_uri": "https://localhost:8080/",
          "height": 286
        }
      },
      "outputs": [
        {
          "output_type": "stream",
          "name": "stdout",
          "text": [
            "(224, 224, 3)\n"
          ]
        },
        {
          "output_type": "display_data",
          "data": {
            "text/plain": [
              "<Figure size 432x288 with 1 Axes>"
            ],
            "image/png": "[encoded data removed]"
          },
          "metadata": {
            "needs_background": "light"
          }
        }
      ],
      "source": [
        "plt.imshow(cv2.cvtColor(new_array, cv2.COLOR_BGR2RGB))\n",
        "print(new_array.shape)\n",
        "plt.show()"
      ]
    },
    {
      "cell_type": "code",
      "execution_count": null,
      "metadata": {
        "id": "qLrKMDDPbShv"
      },
      "outputs": [],
      "source": [
        "training_data = []\n"
      ]
    },
    {
      "cell_type": "code",
      "execution_count": null,
      "metadata": {
        "id": "2FpnGoplbShv"
      },
      "outputs": [],
      "source": [
        "def create_training_data():\n",
        "    for category in classes:\n",
        "        path = os.path.join(dataset, category)\n",
        "        imgs_in_category = os.listdir(path)\n",
        "        for img in imgs_in_category:\n",
        "            try:\n",
        "                img_array = cv2.imread(os.path.join(path, img))\n",
        "                new_array = cv2.resize(img_array, (img_size, img_size))\n",
        "                training_data.append([new_array, category])\n",
        "            except Exception as e:\n",
        "                pass\n"
      ]
    },
    {
      "cell_type": "code",
      "execution_count": null,
      "metadata": {
        "id": "x_3WMQ0obShw"
      },
      "outputs": [],
      "source": [
        "create_training_data()"
      ]
    },
    {
      "cell_type": "code",
      "execution_count": null,
      "metadata": {
        "id": "lZUqmRFebShw"
      },
      "outputs": [],
      "source": [
        "random.shuffle(training_data)\n",
        "X = []  # data/feature\n",
        "Y = []  # label\n",
        "\n",
        "for features, label in training_data:\n",
        "    X.append(features)\n",
        "    Y.append(label)\n",
        "\n",
        "# converting to 4 dimensions\n",
        "X = np.array(X).reshape(-1, img_size, img_size, 3)\n",
        "X = X / 255.0  ##normalize with skikit learn but for now it is ok (divide by maximal number to normalize)\n"
      ]
    },
    {
      "cell_type": "code",
      "execution_count": null,
      "metadata": {
        "id": "55Le7ls_bShx",
        "outputId": "b5946acf-2822-4db0-c559-2216293ed616",
        "colab": {
          "base_uri": "https://localhost:8080/"
        }
      },
      "outputs": [
        {
          "output_type": "stream",
          "name": "stdout",
          "text": [
            "float64\n",
            "int64\n",
            "[1 3 2 ... 0 2 3]\n",
            "<class 'numpy.ndarray'>\n",
            "<class 'numpy.int64'>\n",
            "<class 'numpy.ndarray'>\n",
            "<class 'numpy.ndarray'>\n"
          ]
        }
      ],
      "source": [
        "print(X.dtype)\n",
        "print(Y.dtype)\n",
        "#Y = [int(x) for x in Y]\n",
        "print(Y)\n",
        "print(type(Y))\n",
        "print(type(Y[0]))\n",
        "print(type(X[0]))\n",
        "Y = np.array(Y)\n",
        "print(type(X[0]))\n"
      ]
    },
    {
      "cell_type": "code",
      "execution_count": null,
      "metadata": {
        "id": "pzTiCHvNbShx",
        "colab": {
          "base_uri": "https://localhost:8080/"
        },
        "outputId": "7fc0a266-fa0b-49ff-a4e5-47b5e2c59228"
      },
      "outputs": [
        {
          "output_type": "stream",
          "name": "stdout",
          "text": [
            "Downloading data from https://storage.googleapis.com/tensorflow/keras-applications/mobilenet_v2/mobilenet_v2_weights_tf_dim_ordering_tf_kernels_1.0_224.h5\n",
            "14540800/14536120 [==============================] - 0s 0us/step\n",
            "14548992/14536120 [==============================] - 0s 0us/step\n"
          ]
        }
      ],
      "source": [
        "model = tensorflow.keras.applications.MobileNetV2()  # model needs rgb and 224 pre trained model"
      ]
    },
    {
      "cell_type": "code",
      "execution_count": null,
      "metadata": {
        "id": "-cbO9-vZbShy"
      },
      "outputs": [],
      "source": [
        "model.summary()\n"
      ]
    },
    {
      "cell_type": "code",
      "execution_count": null,
      "metadata": {
        "scrolled": true,
        "id": "DEALVJgibShy",
        "outputId": "10bee5de-855a-4e7b-e63c-26c91e280534",
        "colab": {
          "base_uri": "https://localhost:8080/"
        }
      },
      "outputs": [
        {
          "output_type": "stream",
          "name": "stdout",
          "text": [
            "KerasTensor(type_spec=TensorSpec(shape=(None, 1280), dtype=tf.float32, name=None), name='global_average_pooling2d/Mean:0', description=\"created by layer 'global_average_pooling2d'\")\n"
          ]
        }
      ],
      "source": [
        "# transfer learning\n",
        "base_input = model.layers[0].input\n",
        "base_output = model.layers[-2].output\n",
        "print(base_output)"
      ]
    },
    {
      "cell_type": "code",
      "execution_count": null,
      "metadata": {
        "id": "ZFmtsySBbShz"
      },
      "outputs": [],
      "source": [
        "final_output = layers.Dense(128)(base_output) \n",
        "final_output = layers.Activation('relu')(final_output) \n",
        "final_output = layers.Dense(64)(final_output)\n",
        "final_output = layers.Activation('relu')(final_output)\n",
        "final_output = layers.Dense(7, activation='softmax')(final_output)  ##my classes are 4, classification layer und somit softmax\n",
        "\n",
        "new_model = keras.Model(inputs=base_input, outputs=final_output)\n",
        "##new_model.summary()\n",
        "\n",
        "new_model.compile(loss=\"sparse_categorical_crossentropy\", optimizer=\"adam\", metrics=[\"accuracy\"])\n",
        "##new_model.summary()\n",
        "\n",
        "##settings for binary classification\n",
        "\n"
      ]
    },
    {
      "cell_type": "code",
      "execution_count": null,
      "metadata": {
        "scrolled": true,
        "id": "MQXmc8e_bShz"
      },
      "outputs": [],
      "source": [
        "Y = np.array(Y)"
      ]
    },
    {
      "cell_type": "code",
      "execution_count": null,
      "metadata": {
        "id": "ACUq-A0HbSh0",
        "outputId": "10c89149-2177-4846-95ff-c7ef3eabd9c6",
        "colab": {
          "base_uri": "https://localhost:8080/"
        }
      },
      "outputs": [
        {
          "output_type": "stream",
          "name": "stdout",
          "text": [
            "Epoch 1/5\n",
            "157/157 [==============================] - 945s 6s/step - loss: 1.0621 - accuracy: 0.5387\n",
            "Epoch 2/5\n",
            "157/157 [==============================] - 940s 6s/step - loss: 0.8686 - accuracy: 0.6270\n",
            "Epoch 3/5\n",
            "157/157 [==============================] - 937s 6s/step - loss: 0.7605 - accuracy: 0.6828\n",
            "Epoch 4/5\n",
            "157/157 [==============================] - 931s 6s/step - loss: 0.6861 - accuracy: 0.7150\n",
            "Epoch 5/5\n",
            "157/157 [==============================] - 925s 6s/step - loss: 0.6391 - accuracy: 0.7472\n"
          ]
        }
      ],
      "source": [
        "X = tensorflow.stack(X)\n",
        "Y = tensorflow.stack(Y)\n",
        "\n",
        "new_model.fit(X, Y, epochs=5)\n",
        "new_model.save('Final_model_95p07.h5')"
      ]
    },
    {
      "cell_type": "code",
      "execution_count": null,
      "metadata": {
        "id": "Ow_yKNhrbSh0"
      },
      "outputs": [],
      "source": [
        "new_model.save('Final_model_95p08.h5')"
      ]
    }
  ],
  "metadata": {
    "kernelspec": {
      "display_name": "Python 3",
      "language": "python",
      "name": "python3"
    },
    "language_info": {
      "codemirror_mode": {
        "name": "ipython",
        "version": 3
      },
      "file_extension": ".py",
      "mimetype": "text/x-python",
      "name": "python",
      "nbconvert_exporter": "python",
      "pygments_lexer": "ipython3",
      "version": "3.7.0"
    },
    "colab": {
      "name": "Model.ipynb",
      "provenance": [],
      "collapsed_sections": []
    }
  },
  "nbformat": 4,
  "nbformat_minor": 0
}